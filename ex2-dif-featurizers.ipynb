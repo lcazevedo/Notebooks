{
 "cells": [
  {
   "cell_type": "raw",
   "metadata": {},
   "source": [
    "Execrício para predizer uma mesma característica com diferentes featurizers\n",
    "- Base: Elastic Tensor\n",
    "- Característica para prever: K_VRH (escolha aleatória) - Average of K_Reuss and K_Voigt (propriedades elásticas)\n",
    "- featurizers (baseado na estrutura): CoulomMatrix (mais comum), ElementProperty\n",
    "- Metrica: Linear Regression\n"
   ]
  },
  {
   "cell_type": "code",
   "execution_count": 25,
   "metadata": {
    "scrolled": false
   },
   "outputs": [
    {
     "name": "stderr",
     "output_type": "stream",
     "text": [
      "/home/luis/anaconda3/lib/python3.6/site-packages/ipykernel_launcher.py:29: FutureWarning:\n",
      "\n",
      "Method .as_matrix will be removed in a future version. Use .values instead.\n",
      "\n"
     ]
    },
    {
     "data": {
      "application/vnd.jupyter.widget-view+json": {
       "model_id": "3cce45d1a205451b81e181d35d308785",
       "version_major": 2,
       "version_minor": 0
      },
      "text/plain": [
       "HBox(children=(IntProgress(value=0, description='CoulombMatrix', max=1181), HTML(value='')))"
      ]
     },
     "metadata": {},
     "output_type": "display_data"
    },
    {
     "name": "stderr",
     "output_type": "stream",
     "text": [
      "/home/luis/anaconda3/lib/python3.6/site-packages/matminer/featurizers/structure.py:618: ComplexWarning:\n",
      "\n",
      "Casting complex values to real discards the imaginary part\n",
      "\n",
      "/home/luis/anaconda3/lib/python3.6/site-packages/matminer/featurizers/structure.py:618: ComplexWarning:\n",
      "\n",
      "Casting complex values to real discards the imaginary part\n",
      "\n",
      "/home/luis/anaconda3/lib/python3.6/site-packages/matminer/featurizers/structure.py:618: ComplexWarning:\n",
      "\n",
      "Casting complex values to real discards the imaginary part\n",
      "\n",
      "/home/luis/anaconda3/lib/python3.6/site-packages/matminer/featurizers/structure.py:618: ComplexWarning:\n",
      "\n",
      "Casting complex values to real discards the imaginary part\n",
      "\n"
     ]
    },
    {
     "name": "stdout",
     "output_type": "stream",
     "text": [
      "\n",
      "   coulomb matrix eig 0  coulomb matrix eig 1  coulomb matrix eig 2  \\\n",
      "0           5841.902884            285.078006           1326.842299   \n",
      "1           1538.197067            212.516011            309.264650   \n",
      "2            278.624411          16330.614817              0.000000   \n",
      "3           2376.479468           1655.340798           1770.835984   \n",
      "4           6793.296684            298.680571            243.770088   \n",
      "\n",
      "   coulomb matrix eig 3  coulomb matrix eig 4  coulomb matrix eig 5  \\\n",
      "0            240.290178           1208.626149           3399.883895   \n",
      "1           1220.645319            242.788829              0.000000   \n",
      "2              0.000000              0.000000              0.000000   \n",
      "3           1788.327486              0.000000              0.000000   \n",
      "4            257.524012            254.688811           3790.842019   \n",
      "\n",
      "   coulomb matrix eig 6  coulomb matrix eig 7  coulomb matrix eig 8  \\\n",
      "0           3553.755294           3546.188905           3275.871997   \n",
      "1              0.000000              0.000000              0.000000   \n",
      "2              0.000000              0.000000              0.000000   \n",
      "3              0.000000              0.000000              0.000000   \n",
      "4           4294.428710           4254.466309           3955.441285   \n",
      "\n",
      "   coulomb matrix eig 9  ...  coulomb matrix eig 142  coulomb matrix eig 143  \\\n",
      "0           3275.871997  ...                     0.0                     0.0   \n",
      "1              0.000000  ...                     0.0                     0.0   \n",
      "2              0.000000  ...                     0.0                     0.0   \n",
      "3              0.000000  ...                     0.0                     0.0   \n",
      "4           4010.329931  ...                     0.0                     0.0   \n",
      "\n",
      "   coulomb matrix eig 144  coulomb matrix eig 145  coulomb matrix eig 146  \\\n",
      "0                     0.0                     0.0                     0.0   \n",
      "1                     0.0                     0.0                     0.0   \n",
      "2                     0.0                     0.0                     0.0   \n",
      "3                     0.0                     0.0                     0.0   \n",
      "4                     0.0                     0.0                     0.0   \n",
      "\n",
      "   coulomb matrix eig 147  coulomb matrix eig 148  coulomb matrix eig 149  \\\n",
      "0                     0.0                     0.0                     0.0   \n",
      "1                     0.0                     0.0                     0.0   \n",
      "2                     0.0                     0.0                     0.0   \n",
      "3                     0.0                     0.0                     0.0   \n",
      "4                     0.0                     0.0                     0.0   \n",
      "\n",
      "   coulomb matrix eig 150  coulomb matrix eig 151  \n",
      "0                     0.0                     0.0  \n",
      "1                     0.0                     0.0  \n",
      "2                     0.0                     0.0  \n",
      "3                     0.0                     0.0  \n",
      "4                     0.0                     0.0  \n",
      "\n",
      "[5 rows x 152 columns]\n"
     ]
    },
    {
     "data": {
      "application/vnd.jupyter.widget-view+json": {
       "model_id": "89277ac7317d4d1f92f72bf4b2698ad7",
       "version_major": 2,
       "version_minor": 0
      },
      "text/plain": [
       "HBox(children=(IntProgress(value=0, description='StrToComposition', max=1181), HTML(value='')))"
      ]
     },
     "metadata": {},
     "output_type": "display_data"
    },
    {
     "name": "stdout",
     "output_type": "stream",
     "text": [
      "\n"
     ]
    },
    {
     "data": {
      "application/vnd.jupyter.widget-view+json": {
       "model_id": "3f7f98f2a1a540489b162df91254a8c9",
       "version_major": 2,
       "version_minor": 0
      },
      "text/plain": [
       "HBox(children=(IntProgress(value=0, description='ElementProperty', max=1181), HTML(value='')))"
      ]
     },
     "metadata": {},
     "output_type": "display_data"
    },
    {
     "name": "stdout",
     "output_type": "stream",
     "text": [
      "\n",
      "   minimum Number  maximum Number  range Number  mean Number  avg_dev Number  \\\n",
      "0            14.0            41.0          27.0    34.166667        9.111111   \n",
      "1            13.0            27.0          14.0    19.000000        6.400000   \n",
      "2            14.0            76.0          62.0    45.000000       31.000000   \n",
      "3            31.0            31.0           0.0    31.000000        0.000000   \n",
      "4            14.0            44.0          30.0    34.000000       13.333333   \n",
      "\n",
      "   mode Number  minimum MendeleevNumber  maximum MendeleevNumber  \\\n",
      "0         41.0                     47.0                     78.0   \n",
      "1         14.0                     58.0                     78.0   \n",
      "2         14.0                     57.0                     78.0   \n",
      "3         31.0                     74.0                     74.0   \n",
      "4         44.0                     56.0                     78.0   \n",
      "\n",
      "   range MendeleevNumber  mean MendeleevNumber  ...  range GSmagmom  \\\n",
      "0                   31.0             54.000000  ...        1.548471   \n",
      "1                   20.0             69.000000  ...        1.548471   \n",
      "2                   21.0             67.500000  ...        0.000000   \n",
      "3                    0.0             74.000000  ...        0.000000   \n",
      "4                   22.0             63.333333  ...        0.000000   \n",
      "\n",
      "   mean GSmagmom  avg_dev GSmagmom  mode GSmagmom  minimum SpaceGroupNumber  \\\n",
      "0       0.258079          0.430131            0.0                     194.0   \n",
      "1       0.619388          0.743266            0.0                     194.0   \n",
      "2       0.000000          0.000000            0.0                     194.0   \n",
      "3       0.000000          0.000000            0.0                      64.0   \n",
      "4       0.000000          0.000000            0.0                     194.0   \n",
      "\n",
      "   maximum SpaceGroupNumber  range SpaceGroupNumber  mean SpaceGroupNumber  \\\n",
      "0                     229.0                    35.0             222.833333   \n",
      "1                     227.0                    33.0             213.400000   \n",
      "2                     227.0                    33.0             210.500000   \n",
      "3                      64.0                     0.0              64.000000   \n",
      "4                     227.0                    33.0             205.000000   \n",
      "\n",
      "   avg_dev SpaceGroupNumber  mode SpaceGroupNumber  \n",
      "0                  9.611111                  229.0  \n",
      "1                 15.520000                  194.0  \n",
      "2                 16.500000                  194.0  \n",
      "3                  0.000000                   64.0  \n",
      "4                 14.666667                  194.0  \n",
      "\n",
      "[5 rows x 132 columns]\n"
     ]
    }
   ],
   "source": [
    "# Nesta primeira parte obtenho os d- Base: Elastic Tensor\n",
    "- Característica para prever: K_VRH (escolha aleatória) - Average of K_Reuss and K_Voigt (propriedades elásticas)\n",
    "- featurizers (baseado na estrutura): CoulomMatrix (mais comum), ElementProperty\n",
    "- Metrica: Linear Regressionados do elastic tensor, removo as colunas não utilizadas,\n",
    "# cria o dataframe \"Y\" com K_VRH e três dataframes com dados para \"X\", cada um com os respectivos featurizers\n",
    "\n",
    "\n",
    "from matminer.datasets.convenience_loaders import load_elastic_tensor\n",
    "from matminer.featurizers.structure import CoulombMatrix\n",
    "from matminer.featurizers.conversions import StrToComposition\n",
    "from matminer.featurizers.composition import ElementProperty\n",
    "\n",
    "#obter os dados do elastic tensor e remover colunas não utilizadas\n",
    "df = load_elastic_tensor()  # loads dataset in a pandas DataFrame object\n",
    "unwanted_columns = [\"volume\", \"nsites\", \"compliance_tensor\", \"elastic_tensor\", \n",
    "                    \"elastic_tensor_original\", \"K_Voigt\", \"G_Voigt\", \"K_Reuss\", \"G_Reuss\", \n",
    "                    \"G_VRH\", 'elastic_anisotropy']\n",
    "df = df.drop(unwanted_columns, axis=1)\n",
    "\n",
    "#Criação do dataframe \"Y\"\n",
    "y_K_VRH = df['K_VRH'].values\n",
    "\n",
    "\n",
    "# Primeiro featurizer: CoulombMatrix\n",
    "if True:\n",
    "    #Criação do dataframe \"X\" com a coulombmatrix\n",
    "    X = df['structure'].as_matrix()\n",
    "    cm = CoulombMatrix(flatten=True).fit(X)\n",
    "    X_CM = cm.featurize_dataframe(df.copy(), \"structure\")\n",
    "    # exclui demais colunas, para ficar somente os dados da coulombmatrix\n",
    "    excluded = [\"K_VRH\", \"formula\", \"material_id\", \n",
    "               \"poisson_ratio\", \"structure\", \"space_group\"]\n",
    "    X_CM = X_CM.drop(excluded, axis=1)\n",
    "    print(X_CM.head())\n",
    "\n",
    "# Inclui couna \"composition\" para os próximos featurizers\n",
    "df = StrToComposition().featurize_dataframe(df, \"formula\")\n",
    "\n",
    "# Segundo featurizer: ElementProperty\n",
    "if True:\n",
    "    #Criação do dataframe \"X\" com as informações de EwaldEnergy\n",
    "    ep = ElementProperty.from_preset(preset_name=\"magpie\")\n",
    "    X_EP = ep.featurize_dataframe(df.copy(), col_id=\"composition\")  # Inlui a coluna \"composition\"\n",
    "    #exclui demais colunas, para ficar somente os dados da coulombmatrix\n",
    "    excluded = [\"K_VRH\", \"formula\", \"material_id\", \n",
    "                \"poisson_ratio\", \"structure\", \"space_group\", \"composition\"]\n",
    "    X_EP = X_EP.drop(excluded, axis=1)\n",
    "    print(X_EP.head())\n",
    "\n",
    "\n",
    "\n",
    "#train_X, val_X, train_y, val_y = train_test_split(X, y_G_VRH, random_state=1)"
   ]
  },
  {
   "cell_type": "code",
   "execution_count": 56,
   "metadata": {},
   "outputs": [
    {
     "name": "stdout",
     "output_type": "stream",
     "text": [
      "Score - LinearRegression - Coulomb Matrix:  -1923690.7156158604\n"
     ]
    },
    {
     "data": {
      "image/png": "[encoded data removed]",
      "text/plain": [
       "<Figure size 432x288 with 1 Axes>"
      ]
     },
     "metadata": {
      "needs_background": "light"
     },
     "output_type": "display_data"
    },
    {
     "data": {
      "image/png": "[encoded data removed]",
      "text/plain": [
       "<Figure size 432x288 with 1 Axes>"
      ]
     },
     "metadata": {
      "needs_background": "light"
     },
     "output_type": "display_data"
    },
    {
     "name": "stdout",
     "output_type": "stream",
     "text": [
      "Done!\n"
     ]
    }
   ],
   "source": [
    "#Predição com Linear regression e CoulombMatrix\n",
    "\n",
    "from sklearn import linear_model\n",
    "from sklearn.model_selection import train_test_split\n",
    "from matplotlib import pyplot\n",
    "import matplotlib.patches as mpatches\n",
    "import numpy\n",
    "\n",
    "#Separação dos dados de treino e teste\n",
    "train_X_CM, val_X_CM, train_y_CM, val_y_CM = train_test_split(X_CM, y_K_VRH, random_state=1)\n",
    "\n",
    "#Fit e identificação do score\n",
    "reg = linear_model.LinearRegression()\n",
    "reg.fit(train_X_CM, train_y_CM)\n",
    "#lembrando que \"score\" retorna o coeficiente de determinação da predição (R²)\n",
    "print (\"Score - LinearRegression - Coulomb Matrix: \", reg.score(val_X_CM,val_y_CM))\n",
    "\n",
    "#Exibindo em gráfico para entender visualmente a diferença entre o real e a predicão\n",
    "pred_y = reg.predict(val_X_CM)\n",
    "pyplot.scatter(val_X_CM.index, pred_y, color = 'red')\n",
    "pyplot.scatter(val_X_CM.index, val_y_CM, color = 'green')\n",
    "lg_red = mpatches.Patch(color='red', label='Predict data')\n",
    "lg_green = mpatches.Patch(color='green', label='Real data')\n",
    "pyplot.legend(handles=[lg_red, lg_green])\n",
    "pyplot.title(\"Visão Geral\")\n",
    "pyplot.show()\n",
    "\n",
    "#neste caso é possível observar que alguns pontos geraram uma predição discrepante, afetando o score.\n",
    "#baixo estou restrngindo a visualizão dos valores entre -500 e + 500, onde observamso a maioria dos \n",
    "#não discrepantes.\n",
    "\n",
    "pyplot.scatter(val_X_CM.index, pred_y, color = 'red')\n",
    "pyplot.scatter(val_X_CM.index, val_y_CM, color = 'green')\n",
    "lg_red = mpatches.Patch(color='red', label='Predict data')\n",
    "lg_green = mpatches.Patch(color='green', label='Real data')\n",
    "pyplot.legend(handles=[lg_red, lg_green])\n",
    "pyplot.ylim(-500, +500)\n",
    "pyplot.title(\"Visão Limitada do Eixo Y\")\n",
    "pyplot.show()\n",
    "\n",
    "\n",
    "\n",
    "print(\"Done!\")\n"
   ]
  },
  {
   "cell_type": "code",
   "execution_count": 76,
   "metadata": {},
   "outputs": [
    {
     "name": "stdout",
     "output_type": "stream",
     "text": [
      "Identifiquei 14 valores fora da faixo [-500, +500]\n",
      "São eles:\n",
      "                a\n",
      "9   -2.200215e+04\n",
      "59   1.187653e+06\n",
      "90   6.403978e+03\n",
      "91  -3.424929e+03\n",
      "147  3.374456e+03\n",
      "157 -2.641569e+03\n",
      "166 -3.163465e+04\n",
      "189 -5.293686e+04\n",
      "223  9.687572e+03\n",
      "229 -3.263415e+05\n",
      "233  6.747783e+03\n",
      "239  1.237030e+06\n",
      "245  2.300264e+03\n",
      "287 -8.224732e+03\n"
     ]
    }
   ],
   "source": [
    "import pandas as pd\n",
    "df = pd.DataFrame(pred_y)\n",
    "df.columns = [\"a\"]\n",
    "\n",
    "print (\"Identifiquei %s valores fora da faixo [-500, +500]\" % (df[(df.a > 500) | (df.a < -500)].count()[0]))\n",
    "\n",
    "print (\"São eles:\")\n",
    "print(df[(df.a > 500) | (df.a < -500)])"
   ]
  },
  {
   "cell_type": "markdown",
   "metadata": {},
   "source": [
    "Em uma análise visual dos dados, identifiquei que estes valores são provenentes de moléculas com mais de 27 eigenvalues\n",
    "\n",
    "IDX  valor           #eigenvalues\n",
    "9   -2.200215e+04     55\n",
    "59   1.187653e+06     38 -> eigenvalues entre 0 e 5.708,31. Não justifica predizer 1.187.653,43\n",
    "90   6.403978e+03     47\n",
    "91  -3.424929e+03     67\n",
    "147  3.374456e+03     67\n",
    "157 -2.641569e+03     35\n",
    "166 -3.163465e+04     35\n",
    "189 -5.293686e+04     33\n",
    "223  9.687572e+03     39\n",
    "229 -3.263415e+05     33\n",
    "233  6.747783e+03     39\n",
    "239  1.237030e+06     95\n",
    "245  2.300264e+03     39\n",
    "287 -8.224732e+03     33\n",
    "\n",
    "Existem moléculas na base com número maiores de eigenvalues, etão não é a quantidade que está afetando o resultado\n",
    "\n",
    "Como um novo teste, vou remover da base as moléculas com mais de 30 átomos (Nsites > 30)\n",
    "\n",
    "#########################################################################################################\n"
   ]
  },
  {
   "cell_type": "code",
   "execution_count": 84,
   "metadata": {},
   "outputs": [
    {
     "name": "stderr",
     "output_type": "stream",
     "text": [
      "/home/luis/anaconda3/lib/python3.6/site-packages/ipykernel_launcher.py:23: FutureWarning:\n",
      "\n",
      "Method .as_matrix will be removed in a future version. Use .values instead.\n",
      "\n"
     ]
    },
    {
     "data": {
      "application/vnd.jupyter.widget-view+json": {
       "model_id": "3eccf42edaca4a6a9730ee3859a11681",
       "version_major": 2,
       "version_minor": 0
      },
      "text/plain": [
       "HBox(children=(IntProgress(value=0, description='CoulombMatrix', max=1123), HTML(value='')))"
      ]
     },
     "metadata": {},
     "output_type": "display_data"
    },
    {
     "name": "stderr",
     "output_type": "stream",
     "text": [
      "/home/luis/anaconda3/lib/python3.6/site-packages/matminer/featurizers/structure.py:618: ComplexWarning:\n",
      "\n",
      "Casting complex values to real discards the imaginary part\n",
      "\n",
      "/home/luis/anaconda3/lib/python3.6/site-packages/matminer/featurizers/structure.py:618: ComplexWarning:\n",
      "\n",
      "Casting complex values to real discards the imaginary part\n",
      "\n",
      "/home/luis/anaconda3/lib/python3.6/site-packages/matminer/featurizers/structure.py:618: ComplexWarning:\n",
      "\n",
      "Casting complex values to real discards the imaginary part\n",
      "\n",
      "/home/luis/anaconda3/lib/python3.6/site-packages/matminer/featurizers/structure.py:618: ComplexWarning:\n",
      "\n",
      "Casting complex values to real discards the imaginary part\n",
      "\n"
     ]
    },
    {
     "name": "stdout",
     "output_type": "stream",
     "text": [
      "\n",
      "   coulomb matrix eig 0  coulomb matrix eig 1  coulomb matrix eig 2  \\\n",
      "0           5841.902884            285.078006           1326.842299   \n",
      "1           1538.197067            212.516011            309.264650   \n",
      "2            278.624411          16330.614817              0.000000   \n",
      "3           2376.479468           1655.340798           1770.835984   \n",
      "4           6793.296684            298.680571            243.770088   \n",
      "\n",
      "   coulomb matrix eig 3  coulomb matrix eig 4  coulomb matrix eig 5  \\\n",
      "0            240.290178           1208.626149           3399.883895   \n",
      "1           1220.645319            242.788829              0.000000   \n",
      "2              0.000000              0.000000              0.000000   \n",
      "3           1788.327486              0.000000              0.000000   \n",
      "4            257.524012            254.688811           3790.842019   \n",
      "\n",
      "   coulomb matrix eig 6  coulomb matrix eig 7  coulomb matrix eig 8  \\\n",
      "0           3553.755294           3546.188905           3275.871997   \n",
      "1              0.000000              0.000000              0.000000   \n",
      "2              0.000000              0.000000              0.000000   \n",
      "3              0.000000              0.000000              0.000000   \n",
      "4           4294.428710           4254.466309           3955.441285   \n",
      "\n",
      "   coulomb matrix eig 9  ...  coulomb matrix eig 20  coulomb matrix eig 21  \\\n",
      "0           3275.871997  ...                    0.0                    0.0   \n",
      "1              0.000000  ...                    0.0                    0.0   \n",
      "2              0.000000  ...                    0.0                    0.0   \n",
      "3              0.000000  ...                    0.0                    0.0   \n",
      "4           4010.329931  ...                    0.0                    0.0   \n",
      "\n",
      "   coulomb matrix eig 22  coulomb matrix eig 23  coulomb matrix eig 24  \\\n",
      "0                    0.0                    0.0                    0.0   \n",
      "1                    0.0                    0.0                    0.0   \n",
      "2                    0.0                    0.0                    0.0   \n",
      "3                    0.0                    0.0                    0.0   \n",
      "4                    0.0                    0.0                    0.0   \n",
      "\n",
      "   coulomb matrix eig 25  coulomb matrix eig 26  coulomb matrix eig 27  \\\n",
      "0                    0.0                    0.0                    0.0   \n",
      "1                    0.0                    0.0                    0.0   \n",
      "2                    0.0                    0.0                    0.0   \n",
      "3                    0.0                    0.0                    0.0   \n",
      "4                    0.0                    0.0                    0.0   \n",
      "\n",
      "   coulomb matrix eig 28  coulomb matrix eig 29  \n",
      "0                    0.0                    0.0  \n",
      "1                    0.0                    0.0  \n",
      "2                    0.0                    0.0  \n",
      "3                    0.0                    0.0  \n",
      "4                    0.0                    0.0  \n",
      "\n",
      "[5 rows x 30 columns]\n"
     ]
    },
    {
     "data": {
      "application/vnd.jupyter.widget-view+json": {
       "model_id": "cbd2fdfa0b4a4be0a14ec318e5ab6426",
       "version_major": 2,
       "version_minor": 0
      },
      "text/plain": [
       "HBox(children=(IntProgress(value=0, description='StrToComposition', max=1123), HTML(value='')))"
      ]
     },
     "metadata": {},
     "output_type": "display_data"
    },
    {
     "name": "stdout",
     "output_type": "stream",
     "text": [
      "\n"
     ]
    },
    {
     "data": {
      "application/vnd.jupyter.widget-view+json": {
       "model_id": "565d0c34dc4949fdb6fbeb81a80fa167",
       "version_major": 2,
       "version_minor": 0
      },
      "text/plain": [
       "HBox(children=(IntProgress(value=0, description='ElementProperty', max=1123), HTML(value='')))"
      ]
     },
     "metadata": {},
     "output_type": "display_data"
    },
    {
     "name": "stdout",
     "output_type": "stream",
     "text": [
      "\n",
      "   minimum Number  maximum Number  range Number  mean Number  avg_dev Number  \\\n",
      "0            14.0            41.0          27.0    34.166667        9.111111   \n",
      "1            13.0            27.0          14.0    19.000000        6.400000   \n",
      "2            14.0            76.0          62.0    45.000000       31.000000   \n",
      "3            31.0            31.0           0.0    31.000000        0.000000   \n",
      "4            14.0            44.0          30.0    34.000000       13.333333   \n",
      "\n",
      "   mode Number  minimum MendeleevNumber  maximum MendeleevNumber  \\\n",
      "0         41.0                     47.0                     78.0   \n",
      "1         14.0                     58.0                     78.0   \n",
      "2         14.0                     57.0                     78.0   \n",
      "3         31.0                     74.0                     74.0   \n",
      "4         44.0                     56.0                     78.0   \n",
      "\n",
      "   range MendeleevNumber  mean MendeleevNumber  ...  range GSmagmom  \\\n",
      "0                   31.0             54.000000  ...        1.548471   \n",
      "1                   20.0             69.000000  ...        1.548471   \n",
      "2                   21.0             67.500000  ...        0.000000   \n",
      "3                    0.0             74.000000  ...        0.000000   \n",
      "4                   22.0             63.333333  ...        0.000000   \n",
      "\n",
      "   mean GSmagmom  avg_dev GSmagmom  mode GSmagmom  minimum SpaceGroupNumber  \\\n",
      "0       0.258079          0.430131            0.0                     194.0   \n",
      "1       0.619388          0.743266            0.0                     194.0   \n",
      "2       0.000000          0.000000            0.0                     194.0   \n",
      "3       0.000000          0.000000            0.0                      64.0   \n",
      "4       0.000000          0.000000            0.0                     194.0   \n",
      "\n",
      "   maximum SpaceGroupNumber  range SpaceGroupNumber  mean SpaceGroupNumber  \\\n",
      "0                     229.0                    35.0             222.833333   \n",
      "1                     227.0                    33.0             213.400000   \n",
      "2                     227.0                    33.0             210.500000   \n",
      "3                      64.0                     0.0              64.000000   \n",
      "4                     227.0                    33.0             205.000000   \n",
      "\n",
      "   avg_dev SpaceGroupNumber  mode SpaceGroupNumber  \n",
      "0                  9.611111                  229.0  \n",
      "1                 15.520000                  194.0  \n",
      "2                 16.500000                  194.0  \n",
      "3                  0.000000                   64.0  \n",
      "4                 14.666667                  194.0  \n",
      "\n",
      "[5 rows x 132 columns]\n"
     ]
    }
   ],
   "source": [
    "from matminer.datasets.convenience_loaders import load_elastic_tensor\n",
    "from matminer.featurizers.structure import CoulombMatrix\n",
    "from matminer.featurizers.conversions import StrToComposition\n",
    "from matminer.featurizers.composition import ElementProperty\n",
    "\n",
    "#obter os dados do elastic tensor e remover colunas não utilizadas\n",
    "df = load_elastic_tensor()  # loads dataset in a pandas DataFrame object\n",
    "#removendo linhas com mais de 30 átomos (Nsites > 30)\n",
    "df = df[df.nsites<=30]\n",
    "df.to_csv(\"/home/luis/Downloads/elastic_tensor.csv\")\n",
    "unwanted_columns = [\"volume\", \"nsites\", \"compliance_tensor\", \"elastic_tensor\", \n",
    "                    \"elastic_tensor_original\", \"K_Voigt\", \"G_Voigt\", \"K_Reuss\", \"G_Reuss\", \n",
    "                    \"G_VRH\", 'elastic_anisotropy']\n",
    "df = df.drop(unwanted_columns, axis=1)\n",
    "\n",
    "#Criação do dataframe \"Y\"\n",
    "y_K_VRH = df['K_VRH'].values\n",
    "\n",
    "\n",
    "# Primeiro featurizer: CoulombMatrix\n",
    "if True:\n",
    "    #Criação do dataframe \"X\" com a coulombmatrix\n",
    "    X = df['structure'].as_matrix()\n",
    "    cm = CoulombMatrix(flatten=True).fit(X)\n",
    "    X_CM = cm.featurize_dataframe(df.copy(), \"structure\")\n",
    "    # exclui demais colunas, para ficar somente os dados da coulombmatrix\n",
    "    excluded = [\"K_VRH\", \"formula\", \"material_id\", \n",
    "               \"poisson_ratio\", \"structure\", \"space_group\"]\n",
    "    X_CM = X_CM.drop(excluded, axis=1)\n",
    "    print(X_CM.head())\n",
    "\n",
    "# Inclui couna \"composition\" para os próximos featurizers\n",
    "df = StrToComposition().featurize_dataframe(df, \"formula\")\n",
    "\n",
    "# Segundo featurizer: ElementProperty\n",
    "if True:\n",
    "    #Criação do dataframe \"X\" com as informações de EwaldEnergy\n",
    "    ep = ElementProperty.from_preset(preset_name=\"magpie\")\n",
    "    X_EP = ep.featurize_dataframe(df.copy(), col_id=\"composition\")  # Inlui a coluna \"composition\"\n",
    "    #exclui demais colunas, para ficar somente os dados de ElementProperty\n",
    "    excluded = [\"K_VRH\", \"formula\", \"material_id\", \n",
    "                \"poisson_ratio\", \"structure\", \"space_group\", \"composition\"]\n",
    "    X_EP = X_EP.drop(excluded, axis=1)\n",
    "    print(X_EP.head())\n",
    "\n",
    "\n",
    "\n",
    "\n",
    "\n"
   ]
  },
  {
   "cell_type": "code",
   "execution_count": 93,
   "metadata": {},
   "outputs": [
    {
     "name": "stdout",
     "output_type": "stream",
     "text": [
      "Score de controle - LinearRegression - Coulomb Matrix:  0.0442794952286214\n",
      "Score - LinearRegression - Coulomb Matrix:  -0.01923755867902055\n"
     ]
    },
    {
     "data": {
      "image/png": "[encoded data removed]",
      "text/plain": [
       "<Figure size 432x288 with 1 Axes>"
      ]
     },
     "metadata": {
      "needs_background": "light"
     },
     "output_type": "display_data"
    }
   ],
   "source": [
    "#Predição com Linear regression e CoulombMatrix\n",
    "\n",
    "from sklearn import linear_model\n",
    "from sklearn.model_selection import train_test_split\n",
    "from matplotlib import pyplot\n",
    "import matplotlib.patches as mpatches\n",
    "import numpy\n",
    "\n",
    "#Separação dos dados de treino e teste\n",
    "train_X_CM, val_X_CM, train_y_CM, val_y_CM = train_test_split(X_CM, y_K_VRH, random_state=1)\n",
    "\n",
    "#Fit e identificação do score\n",
    "reg = linear_model.LinearRegression()\n",
    "reg.fit(train_X_CM, train_y_CM)\n",
    "#lembrando que \"score\" retorna o coeficiente de determinação da predição (R²)\n",
    "print (\"Score de controle - LinearRegression - Coulomb Matrix: \", reg.score(train_X_CM,train_y_CM))\n",
    "print (\"Score - LinearRegression - Coulomb Matrix: \", reg.score(val_X_CM,val_y_CM))\n",
    "#print (\"coef: \", reg.coef_)\n",
    "#print(\"intercept: \", reg.intercept_) \n",
    "\n",
    "#Exibindo em gráfico para entender visualmente a diferença entre o real e a predicão\n",
    "pred_y = reg.predict(val_X_CM)\n",
    "pyplot.scatter(val_X_CM.index, pred_y, color = 'red')\n",
    "pyplot.scatter(val_X_CM.index, val_y_CM, color = 'green')\n",
    "lg_red = mpatches.Patch(color='red', label='Predict data')\n",
    "lg_green = mpatches.Patch(color='green', label='Real data')\n",
    "pyplot.legend(handles=[lg_red, lg_green])\n",
    "pyplot.title(\"Visão Geral\")\n",
    "pyplot.show()\n",
    "\n"
   ]
  },
  {
   "cell_type": "code",
   "execution_count": 96,
   "metadata": {},
   "outputs": [
    {
     "name": "stdout",
     "output_type": "stream",
     "text": [
      "Score de controle - LinearRegression - Coulomb Matrix:  0.8835662686465969\n",
      "Score - LinearRegression - Coulomb Matrix:  0.7990285799872073\n"
     ]
    },
    {
     "data": {
      "image/png": "[encoded data removed]",
      "text/plain": [
       "<Figure size 432x288 with 1 Axes>"
      ]
     },
     "metadata": {
      "needs_background": "light"
     },
     "output_type": "display_data"
    }
   ],
   "source": [
    "#Predição com Linear regression e ElementProperty\n",
    "\n",
    "from sklearn import linear_model\n",
    "from sklearn.model_selection import train_test_split\n",
    "from matplotlib import pyplot\n",
    "import matplotlib.patches as mpatches\n",
    "import numpy\n",
    "\n",
    "X_EP.to_csv(\"/home/luis/Downloads/X_EP.csv\")\n",
    "\n",
    "#Separação dos dados de treino e teste\n",
    "train_X_EP, val_X_EP, train_y_EP, val_y_EP = train_test_split(X_EP, y_K_VRH, random_state=1)\n",
    "\n",
    "#Fit e identificação do score\n",
    "reg = linear_model.LinearRegression()\n",
    "reg.fit(train_X_EP, train_y_EP)\n",
    "#lembrando que \"score\" retorna o coeficiente de determinação da predição (R²)\n",
    "print (\"Score de controle - LinearRegression - Coulomb Matrix: \", reg.score(train_X_EP,train_y_EP))\n",
    "print (\"Score - LinearRegression - Coulomb Matrix: \", reg.score(val_X_EP,val_y_EP))\n",
    "#print (\"coef: \", reg.coef_)\n",
    "#print(\"intercept: \", reg.intercept_) \n",
    "\n",
    "#Exibindo em gráfico para entender visualmente a diferença entre o real e a predicão\n",
    "pred_y = reg.predict(val_X_EP)\n",
    "pyplot.scatter(val_X_EP.index, pred_y, color = 'red')\n",
    "pyplot.scatter(val_X_EP.index, val_y_EP, color = 'green')\n",
    "lg_red = mpatches.Patch(color='red', label='Predict data')\n",
    "lg_green = mpatches.Patch(color='green', label='Real data')\n",
    "pyplot.legend(handles=[lg_red, lg_green])\n",
    "pyplot.title(\"Visão Geral\")\n",
    "pyplot.show()\n"
   ]
  },
  {
   "cell_type": "markdown",
   "metadata": {},
   "source": [
    "- testar outros métodos de regressão\n",
    "- testar com featurizer do paper Hirn et al; 2016 Quantum Energy Regression using Scattering Transforms\n",
    "- testar outras bases de dados\n"
   ]
  }
 ],
 "metadata": {
  "kernelspec": {
   "display_name": "Python 3",
   "language": "python",
   "name": "python3"
  },
  "language_info": {
   "codemirror_mode": {
    "name": "ipython",
    "version": 3
   },
   "file_extension": ".py",
   "mimetype": "text/x-python",
   "name": "python",
   "nbconvert_exporter": "python",
   "pygments_lexer": "ipython3",
   "version": "3.6.8"
  }
 },
 "nbformat": 4,
 "nbformat_minor": 2
}
