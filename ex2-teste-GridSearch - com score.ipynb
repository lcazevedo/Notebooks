{
 "cells": [
  {
   "cell_type": "code",
   "execution_count": 2,
   "metadata": {},
   "outputs": [
    {
     "name": "stderr",
     "output_type": "stream",
     "text": [
      "/home/luis/anaconda3/lib/python3.6/site-packages/ipykernel_launcher.py:31: FutureWarning:\n",
      "\n",
      "Method .as_matrix will be removed in a future version. Use .values instead.\n",
      "\n"
     ]
    },
    {
     "data": {
      "application/vnd.jupyter.widget-view+json": {
       "model_id": "cbce56c3eab341cab93d7eaef4e38fa1",
       "version_major": 2,
       "version_minor": 0
      },
      "text/plain": [
       "HBox(children=(IntProgress(value=0, description='CoulombMatrix', max=1181), HTML(value='')))"
      ]
     },
     "metadata": {},
     "output_type": "display_data"
    },
    {
     "name": "stderr",
     "output_type": "stream",
     "text": [
      "/home/luis/anaconda3/lib/python3.6/site-packages/matminer/featurizers/structure.py:618: ComplexWarning:\n",
      "\n",
      "Casting complex values to real discards the imaginary part\n",
      "\n",
      "/home/luis/anaconda3/lib/python3.6/site-packages/matminer/featurizers/structure.py:618: ComplexWarning:\n",
      "\n",
      "Casting complex values to real discards the imaginary part\n",
      "\n",
      "/home/luis/anaconda3/lib/python3.6/site-packages/matminer/featurizers/structure.py:618: ComplexWarning:\n",
      "\n",
      "Casting complex values to real discards the imaginary part\n",
      "\n",
      "/home/luis/anaconda3/lib/python3.6/site-packages/matminer/featurizers/structure.py:618: ComplexWarning:\n",
      "\n",
      "Casting complex values to real discards the imaginary part\n",
      "\n"
     ]
    },
    {
     "name": "stdout",
     "output_type": "stream",
     "text": [
      "\n"
     ]
    }
   ],
   "source": [
    "################################################################################\n",
    "# Teste do gridsearch com os dados utilizados no Experimento 2 (Elastic Tensor)\n",
    "# (não funciona, com erro indicando problema com float)\n",
    "# PARTE 1: PREPARAÇÃO DOS DADOS\n",
    "\n",
    "# prepara o dataframe para os testes seguintes\n",
    "# ao final temos um dataframe com os dados carregados e sem as colunas que não vamos estudar\n",
    "\n",
    "from __future__ import print_function\n",
    "\n",
    "from sklearn import datasets\n",
    "from sklearn.model_selection import train_test_split\n",
    "from sklearn.model_selection import GridSearchCV\n",
    "from sklearn.metrics import classification_report\n",
    "from sklearn.kernel_ridge import KernelRidge\n",
    "\n",
    "\n",
    "from matminer.datasets.convenience_loaders import load_elastic_tensor\n",
    "df = load_elastic_tensor()  # loads dataset in a pandas DataFrame object\n",
    "unwanted_columns = [\"volume\", \"nsites\", \"compliance_tensor\", \"elastic_tensor\", \n",
    "                    \"elastic_tensor_original\", \"K_Voigt\", \"G_Voigt\", \"K_Reuss\", \"G_Reuss\"]\n",
    "df = df.drop(unwanted_columns, axis=1)\n",
    "\n",
    "# aplicando featurizers\n",
    "\n",
    "#coulomb matrix - flatten\n",
    "# ao final teremos o dataframe \"caracterizado\", onde a coluna \"estrutura\" foi transformada em diversas colunas dos \n",
    "# eigenvalues da coulomb matrix\n",
    "\n",
    "from matminer.featurizers.structure import CoulombMatrix\n",
    "\n",
    "X = df['structure'].as_matrix()\n",
    "cm = CoulombMatrix(flatten=True).fit(X)\n",
    "df = cm.featurize_dataframe(df, \"structure\")\n",
    "\n",
    "\n",
    "# separando os valores X e y_* apenas com as colunas da coulombx matrix\n",
    "# e separando em train e val\n",
    "\n",
    "from sklearn.model_selection import train_test_split\n",
    "y_G_VRH = df['G_VRH'].values\n",
    "y_K_VRH = df['K_VRH'].values\n",
    "y_ea= df['elastic_anisotropy'].values\n",
    "\n",
    "excluded = [\"G_VRH\", \"K_VRH\", \"elastic_anisotropy\", \"formula\", \"material_id\", \n",
    "            \"poisson_ratio\", \"structure\", \"space_group\"]\n",
    "X = df.drop(excluded, axis=1)\n",
    "#print(\"There are {} possible descriptors:\\n\\n{}\".format(X.shape[1], X.columns.values))\n",
    "\n",
    "train_X, val_X, train_y, val_y = train_test_split(X, y_G_VRH, random_state=1)"
   ]
  },
  {
   "cell_type": "code",
   "execution_count": 7,
   "metadata": {
    "scrolled": true
   },
   "outputs": [
    {
     "name": "stdout",
     "output_type": "stream",
     "text": [
      "# Tuning hyper-parameters for r2\n",
      "\n"
     ]
    },
    {
     "name": "stderr",
     "output_type": "stream",
     "text": [
      "/home/luis/anaconda3/lib/python3.6/site-packages/sklearn/linear_model/ridge.py:167: UserWarning:\n",
      "\n",
      "Singular matrix in solving dual problem. Using least-squares solution instead.\n",
      "\n",
      "/home/luis/anaconda3/lib/python3.6/site-packages/sklearn/linear_model/ridge.py:167: UserWarning:\n",
      "\n",
      "Singular matrix in solving dual problem. Using least-squares solution instead.\n",
      "\n",
      "/home/luis/anaconda3/lib/python3.6/site-packages/sklearn/linear_model/ridge.py:167: UserWarning:\n",
      "\n",
      "Singular matrix in solving dual problem. Using least-squares solution instead.\n",
      "\n",
      "/home/luis/anaconda3/lib/python3.6/site-packages/sklearn/linear_model/ridge.py:167: UserWarning:\n",
      "\n",
      "Singular matrix in solving dual problem. Using least-squares solution instead.\n",
      "\n",
      "/home/luis/anaconda3/lib/python3.6/site-packages/sklearn/linear_model/ridge.py:167: UserWarning:\n",
      "\n",
      "Singular matrix in solving dual problem. Using least-squares solution instead.\n",
      "\n",
      "/home/luis/anaconda3/lib/python3.6/site-packages/sklearn/linear_model/ridge.py:167: UserWarning:\n",
      "\n",
      "Singular matrix in solving dual problem. Using least-squares solution instead.\n",
      "\n",
      "/home/luis/anaconda3/lib/python3.6/site-packages/sklearn/linear_model/ridge.py:167: UserWarning:\n",
      "\n",
      "Singular matrix in solving dual problem. Using least-squares solution instead.\n",
      "\n",
      "/home/luis/anaconda3/lib/python3.6/site-packages/sklearn/linear_model/ridge.py:167: UserWarning:\n",
      "\n",
      "Singular matrix in solving dual problem. Using least-squares solution instead.\n",
      "\n",
      "/home/luis/anaconda3/lib/python3.6/site-packages/sklearn/linear_model/ridge.py:167: UserWarning:\n",
      "\n",
      "Singular matrix in solving dual problem. Using least-squares solution instead.\n",
      "\n",
      "/home/luis/anaconda3/lib/python3.6/site-packages/sklearn/linear_model/ridge.py:167: UserWarning:\n",
      "\n",
      "Singular matrix in solving dual problem. Using least-squares solution instead.\n",
      "\n",
      "/home/luis/anaconda3/lib/python3.6/site-packages/sklearn/linear_model/ridge.py:167: UserWarning:\n",
      "\n",
      "Singular matrix in solving dual problem. Using least-squares solution instead.\n",
      "\n",
      "/home/luis/anaconda3/lib/python3.6/site-packages/sklearn/linear_model/ridge.py:167: UserWarning:\n",
      "\n",
      "Singular matrix in solving dual problem. Using least-squares solution instead.\n",
      "\n",
      "/home/luis/anaconda3/lib/python3.6/site-packages/sklearn/linear_model/ridge.py:167: UserWarning:\n",
      "\n",
      "Singular matrix in solving dual problem. Using least-squares solution instead.\n",
      "\n",
      "/home/luis/anaconda3/lib/python3.6/site-packages/sklearn/linear_model/ridge.py:167: UserWarning:\n",
      "\n",
      "Singular matrix in solving dual problem. Using least-squares solution instead.\n",
      "\n",
      "/home/luis/anaconda3/lib/python3.6/site-packages/sklearn/linear_model/ridge.py:167: UserWarning:\n",
      "\n",
      "Singular matrix in solving dual problem. Using least-squares solution instead.\n",
      "\n",
      "/home/luis/anaconda3/lib/python3.6/site-packages/sklearn/linear_model/ridge.py:167: UserWarning:\n",
      "\n",
      "Singular matrix in solving dual problem. Using least-squares solution instead.\n",
      "\n"
     ]
    },
    {
     "name": "stdout",
     "output_type": "stream",
     "text": [
      "Best parameters set found on development set:\n",
      "\n",
      "{'alpha': 8, 'kernel': 'cosine'}\n",
      "\n",
      "Grid scores on development set:\n",
      "\n",
      "-12405.497 (+/-15046.265) for {'alpha': 1, 'kernel': 'linear'}\n",
      "-7650.327 (+/-8770.616) for {'alpha': 2, 'kernel': 'linear'}\n",
      "-6078.911 (+/-6772.574) for {'alpha': 3, 'kernel': 'linear'}\n",
      "-4756.015 (+/-5130.184) for {'alpha': 5, 'kernel': 'linear'}\n",
      "-3865.324 (+/-4032.183) for {'alpha': 8, 'kernel': 'linear'}\n",
      "-3091.550 (+/-3079.928) for {'alpha': 13, 'kernel': 'linear'}\n",
      "-2406.822 (+/-2260.177) for {'alpha': 21, 'kernel': 'linear'}\n",
      "-1789.729 (+/-1571.174) for {'alpha': 34, 'kernel': 'linear'}\n",
      "-2.221 (+/-0.359) for {'alpha': 1, 'kernel': 'rbf'}\n",
      "-2.231 (+/-0.362) for {'alpha': 2, 'kernel': 'rbf'}\n",
      "-2.237 (+/-0.364) for {'alpha': 3, 'kernel': 'rbf'}\n",
      "-2.243 (+/-0.366) for {'alpha': 5, 'kernel': 'rbf'}\n",
      "-2.248 (+/-0.367) for {'alpha': 8, 'kernel': 'rbf'}\n",
      "-2.252 (+/-0.368) for {'alpha': 13, 'kernel': 'rbf'}\n",
      "-2.254 (+/-0.369) for {'alpha': 21, 'kernel': 'rbf'}\n",
      "-2.256 (+/-0.369) for {'alpha': 34, 'kernel': 'rbf'}\n",
      "-1715592779.728 (+/-762056718.684) for {'alpha': 1, 'kernel': 'poly'}\n",
      "-1715587136.506 (+/-762053581.523) for {'alpha': 2, 'kernel': 'poly'}\n",
      "-1715374352.142 (+/-762486470.564) for {'alpha': 3, 'kernel': 'poly'}\n",
      "-1715381552.468 (+/-762499235.979) for {'alpha': 5, 'kernel': 'poly'}\n",
      "-1621078029.036 (+/-573691525.794) for {'alpha': 8, 'kernel': 'poly'}\n",
      "-1621022057.330 (+/-573581006.179) for {'alpha': 13, 'kernel': 'poly'}\n",
      "-1676537137.799 (+/-684264069.279) for {'alpha': 21, 'kernel': 'poly'}\n",
      "-1683053432.304 (+/-696942496.381) for {'alpha': 34, 'kernel': 'poly'}\n",
      "-0.043 (+/-0.051) for {'alpha': 1, 'kernel': 'cosine'}\n",
      "-0.039 (+/-0.047) for {'alpha': 2, 'kernel': 'cosine'}\n",
      "-0.037 (+/-0.043) for {'alpha': 3, 'kernel': 'cosine'}\n",
      "-0.035 (+/-0.036) for {'alpha': 5, 'kernel': 'cosine'}\n",
      "-0.033 (+/-0.028) for {'alpha': 8, 'kernel': 'cosine'}\n",
      "-0.033 (+/-0.017) for {'alpha': 13, 'kernel': 'cosine'}\n",
      "-0.038 (+/-0.003) for {'alpha': 21, 'kernel': 'cosine'}\n",
      "-0.052 (+/-0.015) for {'alpha': 34, 'kernel': 'cosine'}\n",
      "\n",
      "Detailed classification report:\n",
      "\n",
      "The model is trained on the full development set.\n",
      "The scores are computed on the full evaluation set.\n",
      "\n"
     ]
    },
    {
     "name": "stderr",
     "output_type": "stream",
     "text": [
      "/home/luis/anaconda3/lib/python3.6/site-packages/sklearn/model_selection/_search.py:841: DeprecationWarning:\n",
      "\n",
      "The default of the `iid` parameter will change from True to False in version 0.22 and will be removed in 0.24. This will change numeric results when test-set sizes are unequal.\n",
      "\n"
     ]
    },
    {
     "ename": "ValueError",
     "evalue": "continuous is not supported",
     "output_type": "error",
     "traceback": [
      "\u001b[0;31m---------------------------------------------------------------------------\u001b[0m",
      "\u001b[0;31mValueError\u001b[0m                                Traceback (most recent call last)",
      "\u001b[0;32m<ipython-input-7-817c65312e6d>\u001b[0m in \u001b[0;36m<module>\u001b[0;34m\u001b[0m\n\u001b[1;32m     45\u001b[0m     \u001b[0mprint\u001b[0m\u001b[0;34m(\u001b[0m\u001b[0;34m)\u001b[0m\u001b[0;34m\u001b[0m\u001b[0;34m\u001b[0m\u001b[0m\n\u001b[1;32m     46\u001b[0m     \u001b[0my_true\u001b[0m\u001b[0;34m,\u001b[0m \u001b[0my_pred\u001b[0m \u001b[0;34m=\u001b[0m \u001b[0mval_y\u001b[0m\u001b[0;34m,\u001b[0m \u001b[0mclf\u001b[0m\u001b[0;34m.\u001b[0m\u001b[0mpredict\u001b[0m\u001b[0;34m(\u001b[0m\u001b[0mval_X\u001b[0m\u001b[0;34m)\u001b[0m\u001b[0;34m\u001b[0m\u001b[0;34m\u001b[0m\u001b[0m\n\u001b[0;32m---> 47\u001b[0;31m     \u001b[0mprint\u001b[0m\u001b[0;34m(\u001b[0m\u001b[0mclassification_report\u001b[0m\u001b[0;34m(\u001b[0m\u001b[0my_true\u001b[0m\u001b[0;34m,\u001b[0m \u001b[0my_pred\u001b[0m\u001b[0;34m)\u001b[0m\u001b[0;34m)\u001b[0m\u001b[0;34m\u001b[0m\u001b[0;34m\u001b[0m\u001b[0m\n\u001b[0m\u001b[1;32m     48\u001b[0m     \u001b[0mprint\u001b[0m\u001b[0;34m(\u001b[0m\u001b[0;34m)\u001b[0m\u001b[0;34m\u001b[0m\u001b[0;34m\u001b[0m\u001b[0m\n\u001b[1;32m     49\u001b[0m \u001b[0;34m\u001b[0m\u001b[0m\n",
      "\u001b[0;32m~/anaconda3/lib/python3.6/site-packages/sklearn/metrics/classification.py\u001b[0m in \u001b[0;36mclassification_report\u001b[0;34m(y_true, y_pred, labels, target_names, sample_weight, digits, output_dict)\u001b[0m\n\u001b[1;32m   1522\u001b[0m     \"\"\"\n\u001b[1;32m   1523\u001b[0m \u001b[0;34m\u001b[0m\u001b[0m\n\u001b[0;32m-> 1524\u001b[0;31m     \u001b[0my_type\u001b[0m\u001b[0;34m,\u001b[0m \u001b[0my_true\u001b[0m\u001b[0;34m,\u001b[0m \u001b[0my_pred\u001b[0m \u001b[0;34m=\u001b[0m \u001b[0m_check_targets\u001b[0m\u001b[0;34m(\u001b[0m\u001b[0my_true\u001b[0m\u001b[0;34m,\u001b[0m \u001b[0my_pred\u001b[0m\u001b[0;34m)\u001b[0m\u001b[0;34m\u001b[0m\u001b[0;34m\u001b[0m\u001b[0m\n\u001b[0m\u001b[1;32m   1525\u001b[0m \u001b[0;34m\u001b[0m\u001b[0m\n\u001b[1;32m   1526\u001b[0m     \u001b[0mlabels_given\u001b[0m \u001b[0;34m=\u001b[0m \u001b[0;32mTrue\u001b[0m\u001b[0;34m\u001b[0m\u001b[0;34m\u001b[0m\u001b[0m\n",
      "\u001b[0;32m~/anaconda3/lib/python3.6/site-packages/sklearn/metrics/classification.py\u001b[0m in \u001b[0;36m_check_targets\u001b[0;34m(y_true, y_pred)\u001b[0m\n\u001b[1;32m     86\u001b[0m     \u001b[0;31m# No metrics support \"multiclass-multioutput\" format\u001b[0m\u001b[0;34m\u001b[0m\u001b[0;34m\u001b[0m\u001b[0;34m\u001b[0m\u001b[0m\n\u001b[1;32m     87\u001b[0m     \u001b[0;32mif\u001b[0m \u001b[0;34m(\u001b[0m\u001b[0my_type\u001b[0m \u001b[0;32mnot\u001b[0m \u001b[0;32min\u001b[0m \u001b[0;34m[\u001b[0m\u001b[0;34m\"binary\"\u001b[0m\u001b[0;34m,\u001b[0m \u001b[0;34m\"multiclass\"\u001b[0m\u001b[0;34m,\u001b[0m \u001b[0;34m\"multilabel-indicator\"\u001b[0m\u001b[0;34m]\u001b[0m\u001b[0;34m)\u001b[0m\u001b[0;34m:\u001b[0m\u001b[0;34m\u001b[0m\u001b[0;34m\u001b[0m\u001b[0m\n\u001b[0;32m---> 88\u001b[0;31m         \u001b[0;32mraise\u001b[0m \u001b[0mValueError\u001b[0m\u001b[0;34m(\u001b[0m\u001b[0;34m\"{0} is not supported\"\u001b[0m\u001b[0;34m.\u001b[0m\u001b[0mformat\u001b[0m\u001b[0;34m(\u001b[0m\u001b[0my_type\u001b[0m\u001b[0;34m)\u001b[0m\u001b[0;34m)\u001b[0m\u001b[0;34m\u001b[0m\u001b[0;34m\u001b[0m\u001b[0m\n\u001b[0m\u001b[1;32m     89\u001b[0m \u001b[0;34m\u001b[0m\u001b[0m\n\u001b[1;32m     90\u001b[0m     \u001b[0;32mif\u001b[0m \u001b[0my_type\u001b[0m \u001b[0;32min\u001b[0m \u001b[0;34m[\u001b[0m\u001b[0;34m\"binary\"\u001b[0m\u001b[0;34m,\u001b[0m \u001b[0;34m\"multiclass\"\u001b[0m\u001b[0;34m]\u001b[0m\u001b[0;34m:\u001b[0m\u001b[0;34m\u001b[0m\u001b[0;34m\u001b[0m\u001b[0m\n",
      "\u001b[0;31mValueError\u001b[0m: continuous is not supported"
     ]
    }
   ],
   "source": [
    "################################################################################\n",
    "# Teste do gridsearch com os dados utilizados no Experimento 2 (Elastic Tensor)\n",
    "# PARTE 2: ANÁLISE\n",
    "\n",
    "\n",
    "# Set the parameters by cross-validation\n",
    "#\"linear\", \"rbf\", \"poly\", \"cosine\"\n",
    "tuned_parameters = [{'kernel': ['linear'], 'alpha': [1, 2, 3, 5, 8, 13, 21, 34]},\n",
    "                    {'kernel': ['rbf'], 'alpha': [1, 2, 3, 5, 8, 13, 21, 34]},\n",
    "                    {'kernel': ['poly'], 'alpha': [1, 2, 3, 5, 8, 13, 21, 34]},\n",
    "                    {'kernel': ['cosine'], 'alpha': [1, 2, 3, 5, 8, 13, 21, 34]},\n",
    "                    ]\n",
    "\n",
    "\n",
    "scores = ['r2', 'neg_mean_absolute_error',  'neg_mean_squared_error']\n",
    "\n",
    "\n",
    "for score in scores:\n",
    "    print(\"# Tuning hyper-parameters for %s\" % score)\n",
    "    print()\n",
    "\n",
    "    clf = GridSearchCV(KernelRidge(), tuned_parameters, cv=2,\n",
    "                       scoring='%s' % score)\n",
    "                       \n",
    "    clf.fit(train_X, train_y)\n",
    "\n",
    "    print(\"Best parameters set found on development set:\")\n",
    "    print()\n",
    "    print(clf.best_params_)\n",
    "    print()\n",
    "    print(\"Grid scores on development set:\")\n",
    "    print()\n",
    "    means = clf.cv_results_['mean_test_score']\n",
    "    stds = clf.cv_results_['std_test_score']\n",
    "    for mean, std, params in zip(means, stds, clf.cv_results_['params']):\n",
    "        print(\"%0.3f (+/-%0.03f) for %r\"\n",
    "              % (mean, std * 2, params))\n",
    "    print()\n",
    "\n",
    "    ############################################\n",
    "    # Este bloco ainda está apresentando erro\n",
    "    print(\"Detailed classification report:\")\n",
    "    print()\n",
    "    print(\"The model is trained on the full development set.\")\n",
    "    print(\"The scores are computed on the full evaluation set.\")\n",
    "    print()\n",
    "    y_true, y_pred = val_y, clf.predict(val_X)\n",
    "    print(classification_report(y_true, y_pred))\n",
    "    print()\n",
    "    \n"
   ]
  },
  {
   "cell_type": "code",
   "execution_count": null,
   "metadata": {
    "scrolled": false
   },
   "outputs": [],
   "source": []
  },
  {
   "cell_type": "code",
   "execution_count": null,
   "metadata": {},
   "outputs": [],
   "source": []
  },
  {
   "cell_type": "code",
   "execution_count": null,
   "metadata": {},
   "outputs": [],
   "source": []
  }
 ],
 "metadata": {
  "kernelspec": {
   "display_name": "Python 3",
   "language": "python",
   "name": "python3"
  },
  "language_info": {
   "codemirror_mode": {
    "name": "ipython",
    "version": 3
   },
   "file_extension": ".py",
   "mimetype": "text/x-python",
   "name": "python",
   "nbconvert_exporter": "python",
   "pygments_lexer": "ipython3",
   "version": "3.6.8"
  }
 },
 "nbformat": 4,
 "nbformat_minor": 2
}
